{
  "nbformat": 4,
  "nbformat_minor": 0,
  "metadata": {
    "colab": {
      "name": "ann-estimator.ipynb",
      "version": "0.3.2",
      "provenance": [],
      "collapsed_sections": [],
      "include_colab_link": true
    },
    "kernelspec": {
      "name": "python3",
      "display_name": "Python 3"
    }
  },
  "cells": [
    {
      "cell_type": "markdown",
      "metadata": {
        "id": "view-in-github",
        "colab_type": "text"
      },
      "source": [
        "[View in Colaboratory](https://colab.research.google.com/github/gitgash/ds-test/blob/master/ann_estimator.ipynb)"
      ]
    },
    {
      "metadata": {
        "id": "p2ou6aWO85Kn",
        "colab_type": "code",
        "colab": {}
      },
      "cell_type": "code",
      "source": [
        "import tensorflow as tf\n",
        "import pandas as pd\n",
        "import numpy as np\n",
        "from sklearn.model_selection import train_test_split\n",
        "import keras\n",
        "from keras.models import Sequential\n",
        "from keras.layers import Dense, Dropout, Activation\n",
        "from keras.optimizers import SGD\n",
        "from sklearn.preprocessing import StandardScaler\n",
        "\n"
      ],
      "execution_count": 0,
      "outputs": []
    },
    {
      "metadata": {
        "id": "P_XAWfC39E2o",
        "colab_type": "code",
        "colab": {}
      },
      "cell_type": "code",
      "source": [
        "df = pd.read_csv(\"https://www.dropbox.com/s/tzb7mjxipz8fnyt/dataset.csv?dl=1\")\n"
      ],
      "execution_count": 0,
      "outputs": []
    },
    {
      "metadata": {
        "id": "IMvbv40Hpf7-",
        "colab_type": "code",
        "colab": {}
      },
      "cell_type": "code",
      "source": [
        "# crete X and y\n",
        "X = df.iloc[:,1:-1].copy()\n",
        "y = keras.utils.to_categorical(df['label'] - 1, num_classes=5)\n",
        "# preprocess features\n",
        "scaler = StandardScaler().fit(X)\n",
        "X = scaler.transform(X)\n",
        "\n",
        "\n",
        "# divide to train and test\n",
        "X_train, X_test, y_train, y_test = train_test_split(X, y, test_size=0.1, random_state=3623467829)\n"
      ],
      "execution_count": 0,
      "outputs": []
    },
    {
      "metadata": {
        "id": "UbcS7MyoqYtP",
        "colab_type": "code",
        "colab": {
          "base_uri": "https://localhost:8080/",
          "height": 714
        },
        "outputId": "e157cb89-191c-48c2-df04-c9661cc3eb61"
      },
      "cell_type": "code",
      "source": [
        "model = Sequential()\n",
        "# Dense(64) is a fully-connected layer with 64 hidden units.\n",
        "# in the first layer, you must specify the expected input data shape:\n",
        "# here, 20-dimensional vectors.\n",
        "model.add(Dense(1024, activation='relu', input_dim=1365))\n",
        "model.add(Dropout(0.2))\n",
        "model.add(Dense(512, activation='relu'))\n",
        "model.add(Dropout(0.2))\n",
        "model.add(Dense(512, activation='relu'))\n",
        "model.add(Dropout(0.2))\n",
        "model.add(Dense(64, activation='relu'))\n",
        "model.add(Dropout(0.2))\n",
        "model.add(Dense(5, activation='softmax'))\n",
        "\n",
        "sgd = SGD(lr=0.01, decay=1e-6, momentum=0.9, nesterov=True)\n",
        "model.compile(loss='categorical_crossentropy',\n",
        "              optimizer=sgd,\n",
        "              metrics=['accuracy'])\n",
        "\n",
        "model.fit(X_train, y_train,\n",
        "          epochs=20,\n",
        "          batch_size=128)\n",
        "\n",
        "score = model.evaluate(X_test, y_test, batch_size=128)"
      ],
      "execution_count": 24,
      "outputs": [
        {
          "output_type": "stream",
          "text": [
            "Epoch 1/20\n",
            "25312/25312 [==============================] - 11s 421us/step - loss: 1.3204 - acc: 0.4755\n",
            "Epoch 2/20\n",
            "25312/25312 [==============================] - 10s 391us/step - loss: 1.2822 - acc: 0.4847\n",
            "Epoch 3/20\n",
            "25312/25312 [==============================] - 10s 413us/step - loss: 1.2758 - acc: 0.4850\n",
            "Epoch 4/20\n",
            "25312/25312 [==============================] - 10s 392us/step - loss: 1.2702 - acc: 0.4845\n",
            "Epoch 5/20\n",
            "25312/25312 [==============================] - 11s 419us/step - loss: 1.2631 - acc: 0.4868\n",
            "Epoch 6/20\n",
            "25312/25312 [==============================] - 10s 387us/step - loss: 1.2584 - acc: 0.4859\n",
            "Epoch 7/20\n",
            "25312/25312 [==============================] - 11s 415us/step - loss: 1.2559 - acc: 0.4878\n",
            "Epoch 8/20\n",
            "25312/25312 [==============================] - 10s 387us/step - loss: 1.2514 - acc: 0.4897\n",
            "Epoch 9/20\n",
            "25312/25312 [==============================] - 10s 409us/step - loss: 1.2496 - acc: 0.4884\n",
            "Epoch 10/20\n",
            "25312/25312 [==============================] - 10s 388us/step - loss: 1.2458 - acc: 0.4881\n",
            "Epoch 11/20\n",
            "25312/25312 [==============================] - 10s 407us/step - loss: 1.2438 - acc: 0.4905\n",
            "Epoch 12/20\n",
            "25312/25312 [==============================] - 10s 392us/step - loss: 1.2411 - acc: 0.4907\n",
            "Epoch 13/20\n",
            "25312/25312 [==============================] - 10s 407us/step - loss: 1.2349 - acc: 0.4930\n",
            "Epoch 14/20\n",
            "25312/25312 [==============================] - 10s 395us/step - loss: 1.2281 - acc: 0.4934\n",
            "Epoch 15/20\n",
            "25312/25312 [==============================] - 10s 405us/step - loss: 1.2269 - acc: 0.4939\n",
            "Epoch 16/20\n",
            "25312/25312 [==============================] - 10s 399us/step - loss: 1.2245 - acc: 0.4955\n",
            "Epoch 17/20\n",
            "25312/25312 [==============================] - 10s 402us/step - loss: 1.2202 - acc: 0.4960\n",
            "Epoch 18/20\n",
            "25312/25312 [==============================] - 10s 401us/step - loss: 1.2148 - acc: 0.4984\n",
            "Epoch 19/20\n",
            "25312/25312 [==============================] - 10s 402us/step - loss: 1.2103 - acc: 0.4964\n",
            "Epoch 20/20\n",
            "25312/25312 [==============================] - 10s 403us/step - loss: 1.2072 - acc: 0.4981\n",
            "2813/2813 [==============================] - 0s 129us/step\n"
          ],
          "name": "stdout"
        }
      ]
    },
    {
      "metadata": {
        "id": "fC4U0c9Gx-VS",
        "colab_type": "code",
        "colab": {
          "base_uri": "https://localhost:8080/",
          "height": 34
        },
        "outputId": "04011fc0-ebbf-4e8a-9a63-5b7fec68e59e"
      },
      "cell_type": "code",
      "source": [
        "score"
      ],
      "execution_count": 25,
      "outputs": [
        {
          "output_type": "execute_result",
          "data": {
            "text/plain": [
              "[1.277231163797199, 0.4824031282267959]"
            ]
          },
          "metadata": {
            "tags": []
          },
          "execution_count": 25
        }
      ]
    },
    {
      "metadata": {
        "id": "SBpMsnsJx_gU",
        "colab_type": "code",
        "colab": {}
      },
      "cell_type": "code",
      "source": [
        ""
      ],
      "execution_count": 0,
      "outputs": []
    }
  ]
}
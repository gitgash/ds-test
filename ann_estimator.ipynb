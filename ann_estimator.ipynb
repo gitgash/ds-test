{
  "nbformat": 4,
  "nbformat_minor": 0,
  "metadata": {
    "colab": {
      "name": "ann-estimator.ipynb",
      "version": "0.3.2",
      "provenance": [],
      "collapsed_sections": [],
      "include_colab_link": true
    },
    "kernelspec": {
      "name": "python3",
      "display_name": "Python 3"
    }
  },
  "cells": [
    {
      "cell_type": "markdown",
      "metadata": {
        "id": "view-in-github",
        "colab_type": "text"
      },
      "source": [
        "[View in Colaboratory](https://colab.research.google.com/github/gitgash/ds-test/blob/master/ann_estimator.ipynb)"
      ]
    },
    {
      "metadata": {
        "id": "p2ou6aWO85Kn",
        "colab_type": "code",
        "colab": {
          "base_uri": "https://localhost:8080/",
          "height": 34
        },
        "outputId": "016ba497-8548-423c-d8be-03b3da95c859"
      },
      "cell_type": "code",
      "source": [
        "import tensorflow as tf\n",
        "import pandas as pd\n",
        "import numpy as np\n",
        "from sklearn.model_selection import train_test_split\n",
        "import keras\n",
        "from keras.models import Sequential\n",
        "from keras.layers import Dense, Dropout, Activation\n",
        "from keras.optimizers import SGD\n",
        "from sklearn.preprocessing import StandardScaler\n",
        "from sklearn.decomposition import PCA\n",
        "from sklearn.metrics import f1_score\n",
        "import matplotlib.pyplot as plt\n",
        "from sklearn.metrics import confusion_matrix\n",
        "import itertools\n",
        "\n",
        "\n",
        "def plot_confusion_matrix(cm, classes,\n",
        "                          normalize=False,\n",
        "                          title='Confusion matrix',\n",
        "                          cmap=plt.cm.Blues):\n",
        "    \"\"\"\n",
        "    This function prints and plots the confusion matrix.\n",
        "    Normalization can be applied by setting `normalize=True`.\n",
        "    \"\"\"\n",
        "    if normalize:\n",
        "        cm = cm.astype('float') / cm.sum(axis=1)[:, np.newaxis]\n",
        "        print(\"Normalized confusion matrix\")\n",
        "    else:\n",
        "        print('Confusion matrix, without normalization')\n",
        "\n",
        "    print(cm)\n",
        "\n",
        "    plt.imshow(cm, interpolation='nearest', cmap=cmap)\n",
        "    plt.title(title)\n",
        "    plt.colorbar()\n",
        "    tick_marks = np.arange(len(classes))\n",
        "    plt.xticks(tick_marks, classes, rotation=45)\n",
        "    plt.yticks(tick_marks, classes)\n",
        "\n",
        "    fmt = '.2f' if normalize else 'd'\n",
        "    thresh = cm.max() / 2.\n",
        "    for i, j in itertools.product(range(cm.shape[0]), range(cm.shape[1])):\n",
        "        plt.text(j, i, format(cm[i, j], fmt),\n",
        "                 horizontalalignment=\"center\",\n",
        "                 color=\"white\" if cm[i, j] > thresh else \"black\")\n",
        "\n",
        "    plt.tight_layout()\n",
        "    plt.ylabel('True label')\n",
        "    plt.xlabel('Predicted label')"
      ],
      "execution_count": 2,
      "outputs": [
        {
          "output_type": "stream",
          "text": [
            "Using TensorFlow backend.\n"
          ],
          "name": "stderr"
        }
      ]
    },
    {
      "metadata": {
        "id": "P_XAWfC39E2o",
        "colab_type": "code",
        "colab": {}
      },
      "cell_type": "code",
      "source": [
        "df = pd.read_csv(\"https://www.dropbox.com/s/tzb7mjxipz8fnyt/dataset.csv?dl=1\")\n"
      ],
      "execution_count": 0,
      "outputs": []
    },
    {
      "metadata": {
        "id": "DKwllWC1Vyd7",
        "colab_type": "code",
        "colab": {}
      },
      "cell_type": "code",
      "source": [
        "# df_num_corr = df.corr()['label'][:-1]\n",
        "# abs_corr = abs(df_num_corr)\n",
        "# no_corr_list = abs_corr[abs_corr.isna()].index.values.tolist()\n",
        "# df1 = df.drop(no_corr_list, axis=1)"
      ],
      "execution_count": 0,
      "outputs": []
    },
    {
      "metadata": {
        "id": "IMvbv40Hpf7-",
        "colab_type": "code",
        "colab": {}
      },
      "cell_type": "code",
      "source": [
        "# crete X and y\n",
        "X = df.iloc[:,1:-1].copy()\n",
        "y = keras.utils.to_categorical(df['label'] - 1, num_classes=5)\n",
        "\n",
        "# divide to train and test\n",
        "X_train, X_test, y_train, y_test = train_test_split(X, y, test_size=0.1, random_state=3623467829)\n",
        "# preprocess features\n",
        "scaler = StandardScaler().fit(X_train)\n",
        "X_train = scaler.transform(X_train)\n",
        "pca = PCA(n_components=512)\n",
        "pca.fit(X_train)\n",
        "X_train = pca.transform(X_train)"
      ],
      "execution_count": 0,
      "outputs": []
    },
    {
      "metadata": {
        "id": "UbcS7MyoqYtP",
        "colab_type": "code",
        "colab": {
          "base_uri": "https://localhost:8080/",
          "height": 6871
        },
        "outputId": "131be92b-0e97-4447-80e2-96e4a22d6c2d"
      },
      "cell_type": "code",
      "source": [
        "model = Sequential()\n",
        "model.add(Dense(512, activation='relu', input_dim=512))\n",
        "model.add(Dropout(0.2))\n",
        "model.add(Dense(1024, activation='relu'))\n",
        "model.add(Dropout(0.2))\n",
        "model.add(Dense(1024, activation='relu'))\n",
        "model.add(Dropout(0.2))\n",
        "model.add(Dense(512, activation='relu'))\n",
        "model.add(Dropout(0.2))\n",
        "model.add(Dense(5, activation='softmax'))\n",
        "\n",
        "sgd = SGD(lr=0.01, decay=1e-6, momentum=0.9, nesterov=True)\n",
        "model.compile(loss='categorical_crossentropy',\n",
        "              optimizer=sgd,\n",
        "              metrics=['accuracy'])\n",
        "\n",
        "model.fit(X_train, y_train,\n",
        "          epochs=200,\n",
        "          batch_size=128)\n",
        "\n"
      ],
      "execution_count": 5,
      "outputs": [
        {
          "output_type": "stream",
          "text": [
            "WARNING:tensorflow:Variable *= will be deprecated. Use variable.assign_mul if you want assignment to the variable value or 'x = x * y' if you want a new python Tensor object.\n",
            "Epoch 1/200\n",
            "25312/25312 [==============================] - 14s 554us/step - loss: 1.3333 - acc: 0.4683\n",
            "Epoch 2/200\n",
            "25312/25312 [==============================] - 14s 536us/step - loss: 1.2819 - acc: 0.4849\n",
            "Epoch 3/200\n",
            "25312/25312 [==============================] - 14s 546us/step - loss: 1.2730 - acc: 0.4852\n",
            "Epoch 4/200\n",
            "25312/25312 [==============================] - 14s 543us/step - loss: 1.2663 - acc: 0.4879\n",
            "Epoch 5/200\n",
            "25312/25312 [==============================] - 13s 531us/step - loss: 1.2599 - acc: 0.4884\n",
            "Epoch 6/200\n",
            "25312/25312 [==============================] - 14s 559us/step - loss: 1.2578 - acc: 0.4885\n",
            "Epoch 7/200\n",
            "25312/25312 [==============================] - 14s 543us/step - loss: 1.2524 - acc: 0.4905\n",
            "Epoch 8/200\n",
            "25312/25312 [==============================] - 14s 535us/step - loss: 1.2497 - acc: 0.4903\n",
            "Epoch 9/200\n",
            "25312/25312 [==============================] - 14s 543us/step - loss: 1.2456 - acc: 0.4908\n",
            "Epoch 10/200\n",
            "25312/25312 [==============================] - 14s 544us/step - loss: 1.2408 - acc: 0.4917\n",
            "Epoch 11/200\n",
            "25312/25312 [==============================] - 14s 540us/step - loss: 1.2364 - acc: 0.4930\n",
            "Epoch 12/200\n",
            "25312/25312 [==============================] - 14s 551us/step - loss: 1.2340 - acc: 0.4930\n",
            "Epoch 13/200\n",
            "25312/25312 [==============================] - 14s 546us/step - loss: 1.2293 - acc: 0.4959\n",
            "Epoch 14/200\n",
            "25312/25312 [==============================] - 13s 525us/step - loss: 1.2245 - acc: 0.4981\n",
            "Epoch 15/200\n",
            "25312/25312 [==============================] - 14s 554us/step - loss: 1.2186 - acc: 0.4989\n",
            "Epoch 16/200\n",
            "25312/25312 [==============================] - 14s 537us/step - loss: 1.2165 - acc: 0.5002\n",
            "Epoch 17/200\n",
            "25312/25312 [==============================] - 14s 537us/step - loss: 1.2098 - acc: 0.5037\n",
            "Epoch 18/200\n",
            "25312/25312 [==============================] - 14s 544us/step - loss: 1.2073 - acc: 0.5018\n",
            "Epoch 19/200\n",
            "25312/25312 [==============================] - 13s 531us/step - loss: 1.2003 - acc: 0.5055\n",
            "Epoch 20/200\n",
            "25312/25312 [==============================] - 13s 531us/step - loss: 1.1918 - acc: 0.5081\n",
            "Epoch 21/200\n",
            "25312/25312 [==============================] - 14s 548us/step - loss: 1.1882 - acc: 0.5075\n",
            "Epoch 22/200\n",
            "25312/25312 [==============================] - 13s 531us/step - loss: 1.1877 - acc: 0.5100\n",
            "Epoch 23/200\n",
            "25312/25312 [==============================] - 14s 534us/step - loss: 1.1788 - acc: 0.5113\n",
            "Epoch 24/200\n",
            "25312/25312 [==============================] - 14s 544us/step - loss: 1.1697 - acc: 0.5165\n",
            "Epoch 25/200\n",
            "25312/25312 [==============================] - 14s 537us/step - loss: 1.1674 - acc: 0.5166\n",
            "Epoch 26/200\n",
            "25312/25312 [==============================] - 14s 541us/step - loss: 1.1581 - acc: 0.5206\n",
            "Epoch 27/200\n",
            "25312/25312 [==============================] - 14s 536us/step - loss: 1.1503 - acc: 0.5254\n",
            "Epoch 28/200\n",
            "25312/25312 [==============================] - 14s 546us/step - loss: 1.1438 - acc: 0.5285\n",
            "Epoch 29/200\n",
            "25312/25312 [==============================] - 14s 558us/step - loss: 1.1382 - acc: 0.5306\n",
            "Epoch 30/200\n",
            "25312/25312 [==============================] - 14s 553us/step - loss: 1.1316 - acc: 0.5309\n",
            "Epoch 31/200\n",
            "25312/25312 [==============================] - 14s 541us/step - loss: 1.1197 - acc: 0.5390\n",
            "Epoch 32/200\n",
            "25312/25312 [==============================] - 14s 562us/step - loss: 1.1109 - acc: 0.5404\n",
            "Epoch 33/200\n",
            "25312/25312 [==============================] - 14s 557us/step - loss: 1.1051 - acc: 0.5412\n",
            "Epoch 34/200\n",
            "25312/25312 [==============================] - 14s 545us/step - loss: 1.0990 - acc: 0.5449\n",
            "Epoch 35/200\n",
            "25312/25312 [==============================] - 14s 565us/step - loss: 1.0854 - acc: 0.5508\n",
            "Epoch 36/200\n",
            "25312/25312 [==============================] - 14s 566us/step - loss: 1.0735 - acc: 0.5572\n",
            "Epoch 37/200\n",
            "25312/25312 [==============================] - 14s 561us/step - loss: 1.0710 - acc: 0.5586\n",
            "Epoch 38/200\n",
            "25312/25312 [==============================] - 14s 566us/step - loss: 1.0605 - acc: 0.5672\n",
            "Epoch 39/200\n",
            "25312/25312 [==============================] - 14s 568us/step - loss: 1.0470 - acc: 0.5711\n",
            "Epoch 40/200\n",
            "25312/25312 [==============================] - 14s 548us/step - loss: 1.0398 - acc: 0.5779\n",
            "Epoch 41/200\n",
            "25312/25312 [==============================] - 14s 562us/step - loss: 1.0288 - acc: 0.5766\n",
            "Epoch 42/200\n",
            "25312/25312 [==============================] - 14s 572us/step - loss: 1.0148 - acc: 0.5838\n",
            "Epoch 43/200\n",
            "25312/25312 [==============================] - 14s 557us/step - loss: 1.0017 - acc: 0.5892\n",
            "Epoch 44/200\n",
            "25312/25312 [==============================] - 14s 558us/step - loss: 0.9977 - acc: 0.5936\n",
            "Epoch 45/200\n",
            "25312/25312 [==============================] - 14s 566us/step - loss: 0.9853 - acc: 0.5996\n",
            "Epoch 46/200\n",
            "25312/25312 [==============================] - 14s 551us/step - loss: 0.9734 - acc: 0.5999\n",
            "Epoch 47/200\n",
            "25312/25312 [==============================] - 14s 559us/step - loss: 0.9593 - acc: 0.6102\n",
            "Epoch 48/200\n",
            "25312/25312 [==============================] - 14s 572us/step - loss: 0.9533 - acc: 0.6135\n",
            "Epoch 49/200\n",
            "25312/25312 [==============================] - 14s 564us/step - loss: 0.9382 - acc: 0.6176\n",
            "Epoch 50/200\n",
            "25312/25312 [==============================] - 14s 562us/step - loss: 0.9344 - acc: 0.6183\n",
            "Epoch 51/200\n",
            "25312/25312 [==============================] - 15s 578us/step - loss: 0.9169 - acc: 0.6276\n",
            "Epoch 52/200\n",
            "25312/25312 [==============================] - 14s 561us/step - loss: 0.9052 - acc: 0.6313\n",
            "Epoch 53/200\n",
            "25312/25312 [==============================] - 14s 559us/step - loss: 0.8936 - acc: 0.6397\n",
            "Epoch 54/200\n",
            "25312/25312 [==============================] - 14s 564us/step - loss: 0.8793 - acc: 0.6399\n",
            "Epoch 55/200\n",
            "25312/25312 [==============================] - 14s 553us/step - loss: 0.8731 - acc: 0.6462\n",
            "Epoch 56/200\n",
            "25312/25312 [==============================] - 14s 558us/step - loss: 0.8587 - acc: 0.6500\n",
            "Epoch 57/200\n",
            "25312/25312 [==============================] - 14s 573us/step - loss: 0.8508 - acc: 0.6547\n",
            "Epoch 58/200\n",
            "25312/25312 [==============================] - 14s 570us/step - loss: 0.8362 - acc: 0.6623\n",
            "Epoch 59/200\n",
            "25312/25312 [==============================] - 14s 557us/step - loss: 0.8223 - acc: 0.6668\n",
            "Epoch 60/200\n",
            "25312/25312 [==============================] - 14s 563us/step - loss: 0.8077 - acc: 0.6713\n",
            "Epoch 61/200\n",
            "25312/25312 [==============================] - 14s 564us/step - loss: 0.7981 - acc: 0.6781\n",
            "Epoch 62/200\n",
            "25312/25312 [==============================] - 14s 557us/step - loss: 0.7881 - acc: 0.6819\n",
            "Epoch 63/200\n",
            "25312/25312 [==============================] - 14s 557us/step - loss: 0.7821 - acc: 0.6849\n",
            "Epoch 64/200\n",
            "25312/25312 [==============================] - 14s 563us/step - loss: 0.7702 - acc: 0.6911\n",
            "Epoch 65/200\n",
            "25312/25312 [==============================] - 14s 554us/step - loss: 0.7589 - acc: 0.6953\n",
            "Epoch 66/200\n",
            "25312/25312 [==============================] - 14s 550us/step - loss: 0.7505 - acc: 0.6987\n",
            "Epoch 67/200\n",
            "25312/25312 [==============================] - 14s 558us/step - loss: 0.7362 - acc: 0.7018\n",
            "Epoch 68/200\n",
            "25312/25312 [==============================] - 14s 568us/step - loss: 0.7193 - acc: 0.7133\n",
            "Epoch 69/200\n",
            "25312/25312 [==============================] - 14s 554us/step - loss: 0.7169 - acc: 0.7117\n",
            "Epoch 70/200\n",
            "25312/25312 [==============================] - 14s 568us/step - loss: 0.7075 - acc: 0.7150\n",
            "Epoch 71/200\n",
            "25312/25312 [==============================] - 14s 556us/step - loss: 0.6995 - acc: 0.7217\n",
            "Epoch 72/200\n",
            "25312/25312 [==============================] - 14s 548us/step - loss: 0.6857 - acc: 0.7244\n",
            "Epoch 73/200\n",
            "25312/25312 [==============================] - 14s 566us/step - loss: 0.6741 - acc: 0.7317\n",
            "Epoch 74/200\n",
            "25312/25312 [==============================] - 14s 553us/step - loss: 0.6667 - acc: 0.7331\n",
            "Epoch 75/200\n",
            "25312/25312 [==============================] - 14s 551us/step - loss: 0.6515 - acc: 0.7364\n",
            "Epoch 76/200\n",
            "25312/25312 [==============================] - 14s 572us/step - loss: 0.6481 - acc: 0.7412\n",
            "Epoch 77/200\n",
            "25312/25312 [==============================] - 14s 552us/step - loss: 0.6361 - acc: 0.7445\n",
            "Epoch 78/200\n",
            "25312/25312 [==============================] - 14s 547us/step - loss: 0.6345 - acc: 0.7478\n",
            "Epoch 79/200\n",
            "25312/25312 [==============================] - 14s 562us/step - loss: 0.6164 - acc: 0.7544\n",
            "Epoch 80/200\n",
            "25312/25312 [==============================] - 14s 553us/step - loss: 0.6126 - acc: 0.7553\n",
            "Epoch 81/200\n",
            "25312/25312 [==============================] - 14s 540us/step - loss: 0.6003 - acc: 0.7609\n",
            "Epoch 82/200\n",
            "25312/25312 [==============================] - 14s 557us/step - loss: 0.5985 - acc: 0.7620\n",
            "Epoch 83/200\n",
            "25312/25312 [==============================] - 14s 555us/step - loss: 0.5842 - acc: 0.7690\n",
            "Epoch 84/200\n",
            "25312/25312 [==============================] - 14s 549us/step - loss: 0.5776 - acc: 0.7709\n",
            "Epoch 85/200\n",
            "25312/25312 [==============================] - 14s 558us/step - loss: 0.5610 - acc: 0.7801\n",
            "Epoch 86/200\n",
            "25312/25312 [==============================] - 14s 559us/step - loss: 0.5648 - acc: 0.7780\n",
            "Epoch 87/200\n",
            "25312/25312 [==============================] - 14s 544us/step - loss: 0.5557 - acc: 0.7817\n",
            "Epoch 88/200\n",
            "25312/25312 [==============================] - 14s 563us/step - loss: 0.5477 - acc: 0.7836\n",
            "Epoch 89/200\n",
            "25312/25312 [==============================] - 14s 545us/step - loss: 0.5394 - acc: 0.7869\n",
            "Epoch 90/200\n",
            "25312/25312 [==============================] - 14s 551us/step - loss: 0.5313 - acc: 0.7865\n",
            "Epoch 91/200\n",
            "25312/25312 [==============================] - 14s 560us/step - loss: 0.5207 - acc: 0.7952\n",
            "Epoch 92/200\n",
            "25312/25312 [==============================] - 14s 559us/step - loss: 0.5092 - acc: 0.7966\n",
            "Epoch 93/200\n",
            "25312/25312 [==============================] - 14s 544us/step - loss: 0.5094 - acc: 0.7999\n",
            "Epoch 94/200\n",
            "25312/25312 [==============================] - 14s 552us/step - loss: 0.5012 - acc: 0.8011\n",
            "Epoch 95/200\n",
            "25312/25312 [==============================] - 14s 557us/step - loss: 0.4946 - acc: 0.8086\n",
            "Epoch 96/200\n",
            "25312/25312 [==============================] - 14s 545us/step - loss: 0.4960 - acc: 0.8080\n",
            "Epoch 97/200\n",
            "25312/25312 [==============================] - 14s 561us/step - loss: 0.4749 - acc: 0.8140\n",
            "Epoch 98/200\n",
            "25312/25312 [==============================] - 14s 543us/step - loss: 0.4817 - acc: 0.8125\n",
            "Epoch 99/200\n",
            "25312/25312 [==============================] - 14s 549us/step - loss: 0.4710 - acc: 0.8155\n",
            "Epoch 100/200\n",
            "25312/25312 [==============================] - 14s 548us/step - loss: 0.4629 - acc: 0.8193\n",
            "Epoch 101/200\n",
            "25312/25312 [==============================] - 14s 551us/step - loss: 0.4545 - acc: 0.8228\n",
            "Epoch 102/200\n",
            "25312/25312 [==============================] - 14s 536us/step - loss: 0.4533 - acc: 0.8215\n",
            "Epoch 103/200\n",
            "25312/25312 [==============================] - 14s 551us/step - loss: 0.4441 - acc: 0.8264\n",
            "Epoch 104/200\n",
            "25312/25312 [==============================] - 14s 542us/step - loss: 0.4451 - acc: 0.8282\n",
            "Epoch 105/200\n",
            "25312/25312 [==============================] - 14s 537us/step - loss: 0.4348 - acc: 0.8305\n",
            "Epoch 106/200\n",
            "25312/25312 [==============================] - 14s 553us/step - loss: 0.4244 - acc: 0.8332\n",
            "Epoch 107/200\n",
            "25312/25312 [==============================] - 14s 557us/step - loss: 0.4203 - acc: 0.8345\n",
            "Epoch 108/200\n",
            "25312/25312 [==============================] - 14s 547us/step - loss: 0.4188 - acc: 0.8384\n",
            "Epoch 109/200\n",
            "25312/25312 [==============================] - 14s 547us/step - loss: 0.4129 - acc: 0.8398\n",
            "Epoch 110/200\n",
            "25312/25312 [==============================] - 14s 547us/step - loss: 0.4084 - acc: 0.8392\n",
            "Epoch 111/200\n",
            "25312/25312 [==============================] - 14s 539us/step - loss: 0.4046 - acc: 0.8451\n",
            "Epoch 112/200\n",
            "25312/25312 [==============================] - 14s 561us/step - loss: 0.3915 - acc: 0.8494\n",
            "Epoch 113/200\n",
            "25312/25312 [==============================] - 14s 546us/step - loss: 0.3891 - acc: 0.8487\n",
            "Epoch 114/200\n",
            "25312/25312 [==============================] - 14s 556us/step - loss: 0.3962 - acc: 0.8466\n",
            "Epoch 115/200\n",
            "25312/25312 [==============================] - 14s 552us/step - loss: 0.3854 - acc: 0.8518\n",
            "Epoch 116/200\n",
            "25312/25312 [==============================] - 14s 549us/step - loss: 0.3802 - acc: 0.8534\n",
            "Epoch 117/200\n",
            "25312/25312 [==============================] - 14s 545us/step - loss: 0.3678 - acc: 0.8579\n",
            "Epoch 118/200\n",
            "25312/25312 [==============================] - 14s 547us/step - loss: 0.3651 - acc: 0.8588\n",
            "Epoch 119/200\n",
            "25312/25312 [==============================] - 14s 554us/step - loss: 0.3627 - acc: 0.8599\n",
            "Epoch 120/200\n",
            "25312/25312 [==============================] - 14s 539us/step - loss: 0.3625 - acc: 0.8619\n",
            "Epoch 121/200\n",
            "25312/25312 [==============================] - 14s 543us/step - loss: 0.3553 - acc: 0.8622\n",
            "Epoch 122/200\n",
            "25312/25312 [==============================] - 14s 544us/step - loss: 0.3556 - acc: 0.8636\n",
            "Epoch 123/200\n",
            "25312/25312 [==============================] - 14s 548us/step - loss: 0.3487 - acc: 0.8677\n",
            "Epoch 124/200\n",
            "25312/25312 [==============================] - 14s 547us/step - loss: 0.3444 - acc: 0.8692\n",
            "Epoch 125/200\n",
            "25312/25312 [==============================] - 14s 542us/step - loss: 0.3372 - acc: 0.8705\n",
            "Epoch 126/200\n",
            "25312/25312 [==============================] - 14s 537us/step - loss: 0.3294 - acc: 0.8730\n",
            "Epoch 127/200\n",
            "25312/25312 [==============================] - 14s 542us/step - loss: 0.3343 - acc: 0.8721\n",
            "Epoch 128/200\n",
            "25312/25312 [==============================] - 14s 549us/step - loss: 0.3361 - acc: 0.8715\n",
            "Epoch 129/200\n",
            "25312/25312 [==============================] - 14s 537us/step - loss: 0.3255 - acc: 0.8745\n",
            "Epoch 130/200\n",
            "25312/25312 [==============================] - 14s 544us/step - loss: 0.3211 - acc: 0.8770\n",
            "Epoch 131/200\n",
            "25312/25312 [==============================] - 14s 547us/step - loss: 0.3176 - acc: 0.8797\n",
            "Epoch 132/200\n",
            "25312/25312 [==============================] - 14s 548us/step - loss: 0.3111 - acc: 0.8814\n",
            "Epoch 133/200\n",
            "25312/25312 [==============================] - 14s 564us/step - loss: 0.3124 - acc: 0.8799\n",
            "Epoch 134/200\n",
            "25312/25312 [==============================] - 14s 545us/step - loss: 0.2966 - acc: 0.8866\n",
            "Epoch 135/200\n",
            "25312/25312 [==============================] - 14s 538us/step - loss: 0.3002 - acc: 0.8859\n",
            "Epoch 136/200\n",
            "25312/25312 [==============================] - 14s 564us/step - loss: 0.3071 - acc: 0.8822\n",
            "Epoch 137/200\n",
            "25312/25312 [==============================] - 14s 546us/step - loss: 0.3014 - acc: 0.8867\n",
            "Epoch 138/200\n",
            "25312/25312 [==============================] - 14s 535us/step - loss: 0.3025 - acc: 0.8863\n",
            "Epoch 139/200\n",
            "25312/25312 [==============================] - 14s 550us/step - loss: 0.2988 - acc: 0.8878\n",
            "Epoch 140/200\n",
            "25312/25312 [==============================] - 14s 534us/step - loss: 0.2898 - acc: 0.8900\n",
            "Epoch 141/200\n",
            "25312/25312 [==============================] - 14s 553us/step - loss: 0.2951 - acc: 0.8889\n",
            "Epoch 142/200\n",
            "25312/25312 [==============================] - 14s 570us/step - loss: 0.2850 - acc: 0.8929\n",
            "Epoch 143/200\n",
            "25312/25312 [==============================] - 14s 550us/step - loss: 0.2723 - acc: 0.8953\n",
            "Epoch 144/200\n",
            "25312/25312 [==============================] - 14s 550us/step - loss: 0.2702 - acc: 0.8973\n",
            "Epoch 145/200\n",
            "25312/25312 [==============================] - 14s 563us/step - loss: 0.2791 - acc: 0.8958\n",
            "Epoch 146/200\n",
            "25312/25312 [==============================] - 14s 553us/step - loss: 0.2726 - acc: 0.8969\n",
            "Epoch 147/200\n",
            "25312/25312 [==============================] - 14s 541us/step - loss: 0.2651 - acc: 0.9029\n",
            "Epoch 148/200\n",
            "25312/25312 [==============================] - 14s 549us/step - loss: 0.2646 - acc: 0.9012\n",
            "Epoch 149/200\n",
            "25312/25312 [==============================] - 14s 554us/step - loss: 0.2580 - acc: 0.9027\n",
            "Epoch 150/200\n",
            "25312/25312 [==============================] - 14s 543us/step - loss: 0.2595 - acc: 0.9012\n",
            "Epoch 151/200\n",
            "25312/25312 [==============================] - 14s 557us/step - loss: 0.2527 - acc: 0.9040\n",
            "Epoch 152/200\n",
            "25312/25312 [==============================] - 14s 548us/step - loss: 0.2572 - acc: 0.9012\n",
            "Epoch 153/200\n",
            "25312/25312 [==============================] - 14s 551us/step - loss: 0.2472 - acc: 0.9096\n",
            "Epoch 154/200\n",
            "25312/25312 [==============================] - 14s 573us/step - loss: 0.2507 - acc: 0.9057\n",
            "Epoch 155/200\n",
            "25312/25312 [==============================] - 14s 548us/step - loss: 0.2397 - acc: 0.9098\n",
            "Epoch 156/200\n",
            "25312/25312 [==============================] - 14s 542us/step - loss: 0.2514 - acc: 0.9040\n",
            "Epoch 157/200\n",
            "25312/25312 [==============================] - 14s 551us/step - loss: 0.2364 - acc: 0.9112\n",
            "Epoch 158/200\n",
            "25312/25312 [==============================] - 14s 549us/step - loss: 0.2393 - acc: 0.9084\n",
            "Epoch 159/200\n",
            "25312/25312 [==============================] - 14s 542us/step - loss: 0.2372 - acc: 0.9119\n",
            "Epoch 160/200\n",
            "25312/25312 [==============================] - 14s 553us/step - loss: 0.2387 - acc: 0.9106\n",
            "Epoch 161/200\n",
            "25312/25312 [==============================] - 14s 538us/step - loss: 0.2392 - acc: 0.9109\n",
            "Epoch 162/200\n",
            "25312/25312 [==============================] - 13s 533us/step - loss: 0.2346 - acc: 0.9115\n",
            "Epoch 163/200\n",
            "25312/25312 [==============================] - 14s 547us/step - loss: 0.2298 - acc: 0.9142\n",
            "Epoch 164/200\n",
            "25312/25312 [==============================] - 14s 548us/step - loss: 0.2296 - acc: 0.9138\n",
            "Epoch 165/200\n",
            "25312/25312 [==============================] - 13s 533us/step - loss: 0.2176 - acc: 0.9174\n",
            "Epoch 166/200\n",
            "25312/25312 [==============================] - 14s 548us/step - loss: 0.2337 - acc: 0.9116\n",
            "Epoch 167/200\n",
            "25312/25312 [==============================] - 14s 536us/step - loss: 0.2181 - acc: 0.9175\n",
            "Epoch 168/200\n",
            "25312/25312 [==============================] - 13s 524us/step - loss: 0.2254 - acc: 0.9159\n",
            "Epoch 169/200\n",
            "25312/25312 [==============================] - 14s 540us/step - loss: 0.2128 - acc: 0.9215\n",
            "Epoch 170/200\n",
            "25312/25312 [==============================] - 14s 537us/step - loss: 0.2183 - acc: 0.9208\n",
            "Epoch 171/200\n",
            "25312/25312 [==============================] - 14s 543us/step - loss: 0.2107 - acc: 0.9217\n",
            "Epoch 172/200\n",
            "25312/25312 [==============================] - 14s 562us/step - loss: 0.2152 - acc: 0.9193\n",
            "Epoch 173/200\n",
            "25312/25312 [==============================] - 14s 552us/step - loss: 0.2092 - acc: 0.9227\n",
            "Epoch 174/200\n",
            "25312/25312 [==============================] - 14s 547us/step - loss: 0.2060 - acc: 0.9235\n",
            "Epoch 175/200\n",
            "25312/25312 [==============================] - 14s 551us/step - loss: 0.2019 - acc: 0.9246\n",
            "Epoch 176/200\n",
            "25312/25312 [==============================] - 14s 539us/step - loss: 0.1998 - acc: 0.9246\n",
            "Epoch 177/200\n",
            "25312/25312 [==============================] - 14s 540us/step - loss: 0.2076 - acc: 0.9229\n",
            "Epoch 178/200\n",
            "25312/25312 [==============================] - 14s 549us/step - loss: 0.2002 - acc: 0.9244\n",
            "Epoch 179/200\n",
            "25312/25312 [==============================] - 14s 541us/step - loss: 0.1982 - acc: 0.9245\n",
            "Epoch 180/200\n",
            "25312/25312 [==============================] - 14s 555us/step - loss: 0.1947 - acc: 0.9269\n",
            "Epoch 181/200\n",
            "25312/25312 [==============================] - 14s 554us/step - loss: 0.1982 - acc: 0.9254\n",
            "Epoch 182/200\n",
            "25312/25312 [==============================] - 14s 537us/step - loss: 0.1903 - acc: 0.9287\n",
            "Epoch 183/200\n",
            "25312/25312 [==============================] - 14s 557us/step - loss: 0.1924 - acc: 0.9295\n",
            "Epoch 184/200\n",
            "25312/25312 [==============================] - 14s 565us/step - loss: 0.1900 - acc: 0.9299\n",
            "Epoch 185/200\n",
            "25312/25312 [==============================] - 13s 532us/step - loss: 0.1877 - acc: 0.9308\n",
            "Epoch 186/200\n",
            "25312/25312 [==============================] - 14s 550us/step - loss: 0.1901 - acc: 0.9297\n",
            "Epoch 187/200\n",
            "25312/25312 [==============================] - 14s 556us/step - loss: 0.1983 - acc: 0.9260\n",
            "Epoch 188/200\n",
            "25312/25312 [==============================] - 14s 546us/step - loss: 0.1887 - acc: 0.9308\n",
            "Epoch 189/200\n",
            "25312/25312 [==============================] - 14s 545us/step - loss: 0.1788 - acc: 0.9346\n",
            "Epoch 190/200\n",
            "25312/25312 [==============================] - 16s 645us/step - loss: 0.1808 - acc: 0.9326\n",
            "Epoch 191/200\n",
            "25312/25312 [==============================] - 14s 543us/step - loss: 0.1762 - acc: 0.9349\n",
            "Epoch 192/200\n",
            "25312/25312 [==============================] - 14s 539us/step - loss: 0.1802 - acc: 0.9338\n",
            "Epoch 193/200\n",
            "25312/25312 [==============================] - 14s 560us/step - loss: 0.1782 - acc: 0.9345\n",
            "Epoch 194/200\n",
            "25312/25312 [==============================] - 14s 536us/step - loss: 0.1816 - acc: 0.9337\n",
            "Epoch 195/200\n",
            "25312/25312 [==============================] - 14s 545us/step - loss: 0.1743 - acc: 0.9358\n",
            "Epoch 196/200\n",
            "25312/25312 [==============================] - 14s 561us/step - loss: 0.1633 - acc: 0.9384\n",
            "Epoch 197/200\n",
            "25312/25312 [==============================] - 14s 540us/step - loss: 0.1660 - acc: 0.9390\n",
            "Epoch 198/200\n",
            "25312/25312 [==============================] - 14s 542us/step - loss: 0.1803 - acc: 0.9327\n",
            "Epoch 199/200\n",
            "25312/25312 [==============================] - 14s 547us/step - loss: 0.1740 - acc: 0.9349\n",
            "Epoch 200/200\n",
            "25312/25312 [==============================] - 14s 553us/step - loss: 0.1691 - acc: 0.9390\n"
          ],
          "name": "stdout"
        },
        {
          "output_type": "execute_result",
          "data": {
            "text/plain": [
              "<keras.callbacks.History at 0x7f362356dd30>"
            ]
          },
          "metadata": {
            "tags": []
          },
          "execution_count": 5
        }
      ]
    },
    {
      "metadata": {
        "id": "fC4U0c9Gx-VS",
        "colab_type": "code",
        "colab": {
          "base_uri": "https://localhost:8080/",
          "height": 34
        },
        "outputId": "629ba18d-4043-4dda-88b0-4f9ec6737c7d"
      },
      "cell_type": "code",
      "source": [
        "X_train.shape"
      ],
      "execution_count": 85,
      "outputs": [
        {
          "output_type": "execute_result",
          "data": {
            "text/plain": [
              "(25312, 512)"
            ]
          },
          "metadata": {
            "tags": []
          },
          "execution_count": 85
        }
      ]
    },
    {
      "metadata": {
        "id": "SBpMsnsJx_gU",
        "colab_type": "code",
        "colab": {
          "base_uri": "https://localhost:8080/",
          "height": 85
        },
        "outputId": "2993542b-5495-43f9-87ea-30b3acff3f16"
      },
      "cell_type": "code",
      "source": [
        "# make prediction on test set\n",
        "X_test_2 = pca.transform(scaler.transform(X_test))\n",
        "# X_test_2 = scaler.transform(X_test)\n",
        "\n",
        "y_pred = model.predict(X_test_2)\n",
        "# calculate f1 weighted score\n",
        "score = model.evaluate(X_test_2, y_test, batch_size=128)\n",
        "print(\"Score = %f\" % score[1])\n",
        "print(\"F1 weighted score %f\" % f1_score(np.argmax(y_test, 1), np.argmax(y_pred, 1), average='weighted'))\n",
        "print(\"F1 macro score %f\" % f1_score(np.argmax(y_test, 1), np.argmax(y_pred, 1), average='macro'))"
      ],
      "execution_count": 6,
      "outputs": [
        {
          "output_type": "stream",
          "text": [
            "2813/2813 [==============================] - 0s 143us/step\n",
            "Score = 0.410949\n",
            "F1 weighted score 0.398329\n",
            "F1 macro score 0.284717\n"
          ],
          "name": "stdout"
        }
      ]
    },
    {
      "metadata": {
        "id": "cvJ28b36DWK-",
        "colab_type": "code",
        "colab": {
          "base_uri": "https://localhost:8080/",
          "height": 517
        },
        "outputId": "5ad1de25-1b82-41e5-8577-e8ac523ca43f"
      },
      "cell_type": "code",
      "source": [
        "cnf_matrix = confusion_matrix(np.argmax(y_test, 1), np.argmax(y_pred, 1))\n",
        "plot_confusion_matrix(cnf_matrix,[1,2,3,4,5])"
      ],
      "execution_count": 7,
      "outputs": [
        {
          "output_type": "stream",
          "text": [
            "Confusion matrix, without normalization\n",
            "[[ 74  20  31  45  85]\n",
            " [ 27  12  20  31  61]\n",
            " [ 32  12  52  90 185]\n",
            " [ 30  20  73 197 378]\n",
            " [ 57  39 135 286 821]]\n"
          ],
          "name": "stdout"
        },
        {
          "output_type": "display_data",
          "data": {
            "image/png": "[encoded data removed]",
            "text/plain": [
              "<matplotlib.figure.Figure at 0x7f35f6bd08d0>"
            ]
          },
          "metadata": {
            "tags": []
          }
        }
      ]
    },
    {
      "metadata": {
        "id": "2eJLLZkDEIv4",
        "colab_type": "code",
        "colab": {
          "base_uri": "https://localhost:8080/",
          "height": 34
        },
        "outputId": "bb744184-87d1-47c7-d361-c47da8db7082"
      },
      "cell_type": "code",
      "source": [
        ""
      ],
      "execution_count": 91,
      "outputs": [
        {
          "output_type": "execute_result",
          "data": {
            "text/plain": [
              "(2813,)"
            ]
          },
          "metadata": {
            "tags": []
          },
          "execution_count": 91
        }
      ]
    },
    {
      "metadata": {
        "id": "wk6pBPLrSzFu",
        "colab_type": "text"
      },
      "cell_type": "markdown",
      "source": [
        "Stacking binary classifiers with shallow multiclass classifier\n",
        "==============================================="
      ]
    },
    {
      "metadata": {
        "id": "BsiMGrXBEoHr",
        "colab_type": "code",
        "colab": {
          "base_uri": "https://localhost:8080/",
          "height": 34
        },
        "outputId": "dcb4a271-e2b2-4562-b9a2-e5a60b29352a"
      },
      "cell_type": "code",
      "source": [
        "models = []\n",
        "for i in range(0,5):\n",
        "  \n",
        "model1 = Sequential()\n",
        "model1.add(Dense(512, activation='relu', input_dim=512))\n",
        "model1.add(Dropout(0.2))\n",
        "model1.add(Dense(1024, activation='relu'))\n",
        "model.add(Dropout(0.2))\n",
        "model.add(Dense(1024, activation='relu'))\n",
        "model.add(Dropout(0.2))\n",
        "model.add(Dense(512, activation='relu'))\n",
        "model.add(Dropout(0.2))\n",
        "model.add(Dense(5, activation='softmax'))\n",
        "\n",
        "sgd = SGD(lr=0.01, decay=1e-6, momentum=0.9, nesterov=True)\n",
        "model.compile(loss='categorical_crossentropy',\n",
        "              optimizer=sgd,\n",
        "              metrics=['accuracy'])\n",
        "\n",
        "model.fit(X_train, y_train,\n",
        "          epochs=200,\n",
        "          batch_size=128)\n",
        "\n"
      ],
      "execution_count": 93,
      "outputs": [
        {
          "output_type": "execute_result",
          "data": {
            "text/plain": [
              "array([4, 4, 4, ..., 4, 4, 4])"
            ]
          },
          "metadata": {
            "tags": []
          },
          "execution_count": 93
        }
      ]
    },
    {
      "metadata": {
        "id": "jkvdod7cXX62",
        "colab_type": "code",
        "colab": {}
      },
      "cell_type": "code",
      "source": [
        "dfc = df.corr()"
      ],
      "execution_count": 0,
      "outputs": []
    },
    {
      "metadata": {
        "id": "txOCAeCpXhbP",
        "colab_type": "code",
        "colab": {
          "base_uri": "https://localhost:8080/",
          "height": 1071
        },
        "outputId": "58a8f066-936a-42ec-a203-65e397317d4e"
      },
      "cell_type": "code",
      "source": [
        "abs(dfc)['label'][:-1]"
      ],
      "execution_count": 67,
      "outputs": [
        {
          "output_type": "execute_result",
          "data": {
            "text/plain": [
              "f1_avg__r0       0.136920\n",
              "f1_stddev__r0    0.077212\n",
              "f1_min__r0       0.098829\n",
              "f1_max__r0       0.097817\n",
              "f2_avg__r0       0.000658\n",
              "f2_stddev__r0    0.094230\n",
              "f2_min__r0       0.033009\n",
              "f2_max__r0       0.002254\n",
              "f3_avg__r0       0.124690\n",
              "f3_stddev__r0    0.135794\n",
              "f3_min__r0       0.013925\n",
              "f3_max__r0       0.026989\n",
              "f4_avg__r0       0.180066\n",
              "f4_stddev__r0    0.011091\n",
              "f4_min__r0       0.104212\n",
              "f4_max__r0       0.104558\n",
              "f5_avg__r0       0.182397\n",
              "f5_stddev__r0    0.132186\n",
              "f5_min__r0       0.098281\n",
              "f5_max__r0       0.025485\n",
              "f6_avg__r0       0.125279\n",
              "f6_stddev__r0    0.182273\n",
              "f6_min__r0       0.046353\n",
              "f6_max__r0       0.063069\n",
              "f7_avg__r0       0.226745\n",
              "f7_stddev__r0    0.091248\n",
              "f7_min__r0       0.134928\n",
              "f7_max__r0       0.152783\n",
              "f8_avg__r0       0.118896\n",
              "f8_stddev__r0    0.130709\n",
              "                   ...   \n",
              "f18_q7__r4            NaN\n",
              "f18_q8__r4            NaN\n",
              "f18_q9__r4            NaN\n",
              "f19_q1__r4       0.150068\n",
              "f19_q2__r4       0.153669\n",
              "f19_q3__r4       0.158252\n",
              "f19_q4__r4       0.155709\n",
              "f19_q5__r4       0.160819\n",
              "f19_q6__r4       0.167029\n",
              "f19_q7__r4       0.179382\n",
              "f19_q8__r4       0.180528\n",
              "f19_q9__r4       0.203482\n",
              "f20_q1__r4       0.166795\n",
              "f20_q2__r4       0.164812\n",
              "f20_q3__r4       0.162364\n",
              "f20_q4__r4       0.159257\n",
              "f20_q5__r4       0.155664\n",
              "f20_q6__r4       0.151544\n",
              "f20_q7__r4       0.146368\n",
              "f20_q8__r4       0.139587\n",
              "f20_q9__r4       0.127071\n",
              "f21_q1__r4       0.042067\n",
              "f21_q2__r4       0.037533\n",
              "f21_q3__r4       0.029448\n",
              "f21_q4__r4       0.032773\n",
              "f21_q5__r4       0.028402\n",
              "f21_q6__r4       0.022780\n",
              "f21_q7__r4       0.017261\n",
              "f21_q8__r4       0.009634\n",
              "f21_q9__r4       0.003907\n",
              "Name: label, Length: 1365, dtype: float64"
            ]
          },
          "metadata": {
            "tags": []
          },
          "execution_count": 67
        }
      ]
    },
    {
      "metadata": {
        "id": "MtoXCH37YNyf",
        "colab_type": "code",
        "colab": {}
      },
      "cell_type": "code",
      "source": [
        ""
      ],
      "execution_count": 0,
      "outputs": []
    }
  ]
}
{
  "nbformat": 4,
  "nbformat_minor": 0,
  "metadata": {
    "colab": {
      "name": "ann-estimator.ipynb",
      "version": "0.3.2",
      "provenance": [],
      "collapsed_sections": [],
      "include_colab_link": true
    },
    "kernelspec": {
      "name": "python3",
      "display_name": "Python 3"
    }
  },
  "cells": [
    {
      "cell_type": "markdown",
      "metadata": {
        "id": "view-in-github",
        "colab_type": "text"
      },
      "source": [
        "[View in Colaboratory](https://colab.research.google.com/github/gitgash/ds-test/blob/master/ann_estimator.ipynb)"
      ]
    },
    {
      "metadata": {
        "id": "p2ou6aWO85Kn",
        "colab_type": "code",
        "colab": {}
      },
      "cell_type": "code",
      "source": [
        "import tensorflow as tf\n",
        "import pandas as pd\n",
        "import numpy as np\n",
        "from sklearn.model_selection import train_test_split\n",
        "import keras\n",
        "from keras.models import Sequential\n",
        "from keras.layers import Dense, Dropout, Activation\n",
        "from keras.optimizers import SGD\n",
        "from sklearn.preprocessing import StandardScaler\n",
        "from sklearn.decomposition import PCA\n",
        "from sklearn.metrics import f1_score\n",
        "import matplotlib.pyplot as plt\n",
        "from sklearn.metrics import confusion_matrix\n",
        "import itertools\n",
        "\n",
        "\n",
        "def plot_confusion_matrix(cm, classes,\n",
        "                          normalize=False,\n",
        "                          title='Confusion matrix',\n",
        "                          cmap=plt.cm.Blues):\n",
        "    \"\"\"\n",
        "    This function prints and plots the confusion matrix.\n",
        "    Normalization can be applied by setting `normalize=True`.\n",
        "    \"\"\"\n",
        "    if normalize:\n",
        "        cm = cm.astype('float') / cm.sum(axis=1)[:, np.newaxis]\n",
        "        print(\"Normalized confusion matrix\")\n",
        "    else:\n",
        "        print('Confusion matrix, without normalization')\n",
        "\n",
        "    print(cm)\n",
        "\n",
        "    plt.imshow(cm, interpolation='nearest', cmap=cmap)\n",
        "    plt.title(title)\n",
        "    plt.colorbar()\n",
        "    tick_marks = np.arange(len(classes))\n",
        "    plt.xticks(tick_marks, classes, rotation=45)\n",
        "    plt.yticks(tick_marks, classes)\n",
        "\n",
        "    fmt = '.2f' if normalize else 'd'\n",
        "    thresh = cm.max() / 2.\n",
        "    for i, j in itertools.product(range(cm.shape[0]), range(cm.shape[1])):\n",
        "        plt.text(j, i, format(cm[i, j], fmt),\n",
        "                 horizontalalignment=\"center\",\n",
        "                 color=\"white\" if cm[i, j] > thresh else \"black\")\n",
        "\n",
        "    plt.tight_layout()\n",
        "    plt.ylabel('True label')\n",
        "    plt.xlabel('Predicted label')"
      ],
      "execution_count": 0,
      "outputs": []
    },
    {
      "metadata": {
        "id": "P_XAWfC39E2o",
        "colab_type": "code",
        "colab": {}
      },
      "cell_type": "code",
      "source": [
        "df = pd.read_csv(\"https://www.dropbox.com/s/tzb7mjxipz8fnyt/dataset.csv?dl=1\")\n"
      ],
      "execution_count": 0,
      "outputs": []
    },
    {
      "metadata": {
        "id": "DKwllWC1Vyd7",
        "colab_type": "code",
        "colab": {}
      },
      "cell_type": "code",
      "source": [
        "# df_num_corr = df.corr()['label'][:-1]\n",
        "# abs_corr = abs(df_num_corr)\n",
        "# no_corr_list = abs_corr[abs_corr.isna()].index.values.tolist()\n",
        "# df1 = df.drop(no_corr_list, axis=1)"
      ],
      "execution_count": 0,
      "outputs": []
    },
    {
      "metadata": {
        "id": "IMvbv40Hpf7-",
        "colab_type": "code",
        "colab": {}
      },
      "cell_type": "code",
      "source": [
        "# crete X and y\n",
        "X = df.iloc[:,1:-1].copy()\n",
        "y = keras.utils.to_categorical(df['label'] - 1, num_classes=5)\n",
        "\n",
        "# divide to train and test\n",
        "X_train, X_test, y_train, y_test = train_test_split(X, y, test_size=0.1, random_state=3623467829)\n",
        "# preprocess features\n",
        "scaler = StandardScaler().fit(X_train)\n",
        "X_train = scaler.transform(X_train)\n",
        "pca = PCA(n_components=512)\n",
        "pca.fit(X_train)\n",
        "X_train = pca.transform(X_train)"
      ],
      "execution_count": 0,
      "outputs": []
    },
    {
      "metadata": {
        "id": "UbcS7MyoqYtP",
        "colab_type": "code",
        "colab": {
          "base_uri": "https://localhost:8080/",
          "height": 714
        },
        "outputId": "e670f559-08f8-4e71-f536-d4456f6887da"
      },
      "cell_type": "code",
      "source": [
        "model = Sequential()\n",
        "model.add(Dense(512, activation='relu', input_dim=512))\n",
        "model.add(Dropout(0.2))\n",
        "model.add(Dense(128, activation='relu'))\n",
        "model.add(Dropout(0.2))\n",
        "model.add(Dense(64, activation='relu'))\n",
        "model.add(Dropout(0.2))\n",
        "model.add(Dense(5, activation='softmax'))\n",
        "\n",
        "sgd = SGD(lr=0.01, decay=1e-6, momentum=0.9, nesterov=True)\n",
        "model.compile(loss='categorical_crossentropy',\n",
        "              optimizer=sgd,\n",
        "              metrics=['accuracy'])\n",
        "\n",
        "model.fit(X_train, y_train,\n",
        "          epochs=200,\n",
        "          batch_size=128)\n",
        "\n"
      ],
      "execution_count": 87,
      "outputs": [
        {
          "output_type": "stream",
          "text": [
            "Epoch 1/20\n",
            "25312/25312 [==============================] - 4s 139us/step - loss: 1.3475 - acc: 0.4671\n",
            "Epoch 2/20\n",
            "25312/25312 [==============================] - 2s 99us/step - loss: 1.2883 - acc: 0.4848\n",
            "Epoch 3/20\n",
            "25312/25312 [==============================] - 2s 97us/step - loss: 1.2776 - acc: 0.4848\n",
            "Epoch 4/20\n",
            "25312/25312 [==============================] - 2s 98us/step - loss: 1.2727 - acc: 0.4857\n",
            "Epoch 5/20\n",
            "25312/25312 [==============================] - 2s 97us/step - loss: 1.2687 - acc: 0.4868\n",
            "Epoch 6/20\n",
            "25312/25312 [==============================] - 2s 95us/step - loss: 1.2652 - acc: 0.4868\n",
            "Epoch 7/20\n",
            "25312/25312 [==============================] - 2s 89us/step - loss: 1.2604 - acc: 0.4868\n",
            "Epoch 8/20\n",
            "25312/25312 [==============================] - 2s 89us/step - loss: 1.2582 - acc: 0.4871\n",
            "Epoch 9/20\n",
            "25312/25312 [==============================] - 2s 97us/step - loss: 1.2560 - acc: 0.4884\n",
            "Epoch 10/20\n",
            "25312/25312 [==============================] - 3s 99us/step - loss: 1.2503 - acc: 0.4883\n",
            "Epoch 11/20\n",
            "25312/25312 [==============================] - 2s 98us/step - loss: 1.2497 - acc: 0.4894\n",
            "Epoch 12/20\n",
            "25312/25312 [==============================] - 2s 99us/step - loss: 1.2441 - acc: 0.4895\n",
            "Epoch 13/20\n",
            "25312/25312 [==============================] - 2s 97us/step - loss: 1.2440 - acc: 0.4889\n",
            "Epoch 14/20\n",
            "25312/25312 [==============================] - 2s 97us/step - loss: 1.2407 - acc: 0.4890\n",
            "Epoch 15/20\n",
            "25312/25312 [==============================] - 2s 98us/step - loss: 1.2393 - acc: 0.4907\n",
            "Epoch 16/20\n",
            "25312/25312 [==============================] - 2s 91us/step - loss: 1.2355 - acc: 0.4912\n",
            "Epoch 17/20\n",
            "25312/25312 [==============================] - 2s 88us/step - loss: 1.2329 - acc: 0.4928\n",
            "Epoch 18/20\n",
            "25312/25312 [==============================] - 2s 97us/step - loss: 1.2296 - acc: 0.4932\n",
            "Epoch 19/20\n",
            "25312/25312 [==============================] - 2s 96us/step - loss: 1.2276 - acc: 0.4943\n",
            "Epoch 20/20\n",
            "25312/25312 [==============================] - 2s 97us/step - loss: 1.2244 - acc: 0.4944\n"
          ],
          "name": "stdout"
        },
        {
          "output_type": "execute_result",
          "data": {
            "text/plain": [
              "<keras.callbacks.History at 0x7f8cf942e048>"
            ]
          },
          "metadata": {
            "tags": []
          },
          "execution_count": 87
        }
      ]
    },
    {
      "metadata": {
        "id": "fC4U0c9Gx-VS",
        "colab_type": "code",
        "colab": {
          "base_uri": "https://localhost:8080/",
          "height": 34
        },
        "outputId": "629ba18d-4043-4dda-88b0-4f9ec6737c7d"
      },
      "cell_type": "code",
      "source": [
        "X_train.shape"
      ],
      "execution_count": 85,
      "outputs": [
        {
          "output_type": "execute_result",
          "data": {
            "text/plain": [
              "(25312, 512)"
            ]
          },
          "metadata": {
            "tags": []
          },
          "execution_count": 85
        }
      ]
    },
    {
      "metadata": {
        "id": "SBpMsnsJx_gU",
        "colab_type": "code",
        "colab": {
          "base_uri": "https://localhost:8080/",
          "height": 142
        },
        "outputId": "6264205e-30dc-4f57-ba6a-ef5bbc1e8d22"
      },
      "cell_type": "code",
      "source": [
        "# make prediction on test set\n",
        "X_test_2 = pca.transform(scaler.transform(X_test))\n",
        "# X_test_2 = scaler.transform(X_test)\n",
        "\n",
        "y_pred = model.predict(X_test_2)\n",
        "# calculate f1 weighted score\n",
        "score = model.evaluate(X_test_2, y_test, batch_size=128)\n",
        "print(\"Score = %f\" % score[1])\n",
        "print(\"F1 score %f\" % f1_score(np.argmax(y_test, 1), np.argmax(y_pred, 1), average='weighted'))"
      ],
      "execution_count": 88,
      "outputs": [
        {
          "output_type": "stream",
          "text": [
            "2813/2813 [==============================] - 0s 163us/step\n",
            "Score = 0.480981\n",
            "F1 score 0.352122\n"
          ],
          "name": "stdout"
        },
        {
          "output_type": "stream",
          "text": [
            "/usr/local/lib/python3.6/dist-packages/sklearn/metrics/classification.py:1135: UndefinedMetricWarning: F-score is ill-defined and being set to 0.0 in labels with no predicted samples.\n",
            "  'precision', 'predicted', average, warn_for)\n"
          ],
          "name": "stderr"
        }
      ]
    },
    {
      "metadata": {
        "id": "cvJ28b36DWK-",
        "colab_type": "code",
        "colab": {
          "base_uri": "https://localhost:8080/",
          "height": 517
        },
        "outputId": "2fa0a1e9-e354-4d5c-9a00-4f7bd52baba0"
      },
      "cell_type": "code",
      "source": [
        "cnf_matrix = confusion_matrix(np.argmax(y_test, 1), np.argmax(y_pred, 1))\n",
        "plot_confusion_matrix(cnf_matrix,[1,2,3,4,5])"
      ],
      "execution_count": 96,
      "outputs": [
        {
          "output_type": "stream",
          "text": [
            "Confusion matrix, without normalization\n",
            "[[  34    0    8    5  208]\n",
            " [  20    0    4    4  123]\n",
            " [  15    0   13   15  328]\n",
            " [  14    0    6   26  652]\n",
            " [  19    0   16   23 1280]]\n"
          ],
          "name": "stdout"
        },
        {
          "output_type": "display_data",
          "data": {
            "image/png": "[encoded data removed]",
            "text/plain": [
              "<matplotlib.figure.Figure at 0x7f8cf86d7ac8>"
            ]
          },
          "metadata": {
            "tags": []
          }
        }
      ]
    },
    {
      "metadata": {
        "id": "2eJLLZkDEIv4",
        "colab_type": "code",
        "colab": {
          "base_uri": "https://localhost:8080/",
          "height": 34
        },
        "outputId": "bb744184-87d1-47c7-d361-c47da8db7082"
      },
      "cell_type": "code",
      "source": [
        "np.argmax(y_test, 1).shape"
      ],
      "execution_count": 91,
      "outputs": [
        {
          "output_type": "execute_result",
          "data": {
            "text/plain": [
              "(2813,)"
            ]
          },
          "metadata": {
            "tags": []
          },
          "execution_count": 91
        }
      ]
    },
    {
      "metadata": {
        "id": "BsiMGrXBEoHr",
        "colab_type": "code",
        "colab": {
          "base_uri": "https://localhost:8080/",
          "height": 34
        },
        "outputId": "dcb4a271-e2b2-4562-b9a2-e5a60b29352a"
      },
      "cell_type": "code",
      "source": [
        "np.argmax(y_pred, 1)"
      ],
      "execution_count": 93,
      "outputs": [
        {
          "output_type": "execute_result",
          "data": {
            "text/plain": [
              "array([4, 4, 4, ..., 4, 4, 4])"
            ]
          },
          "metadata": {
            "tags": []
          },
          "execution_count": 93
        }
      ]
    },
    {
      "metadata": {
        "id": "jkvdod7cXX62",
        "colab_type": "code",
        "colab": {}
      },
      "cell_type": "code",
      "source": [
        "dfc = df.corr()"
      ],
      "execution_count": 0,
      "outputs": []
    },
    {
      "metadata": {
        "id": "txOCAeCpXhbP",
        "colab_type": "code",
        "colab": {
          "base_uri": "https://localhost:8080/",
          "height": 1071
        },
        "outputId": "58a8f066-936a-42ec-a203-65e397317d4e"
      },
      "cell_type": "code",
      "source": [
        "abs(dfc)['label'][:-1]"
      ],
      "execution_count": 67,
      "outputs": [
        {
          "output_type": "execute_result",
          "data": {
            "text/plain": [
              "f1_avg__r0       0.136920\n",
              "f1_stddev__r0    0.077212\n",
              "f1_min__r0       0.098829\n",
              "f1_max__r0       0.097817\n",
              "f2_avg__r0       0.000658\n",
              "f2_stddev__r0    0.094230\n",
              "f2_min__r0       0.033009\n",
              "f2_max__r0       0.002254\n",
              "f3_avg__r0       0.124690\n",
              "f3_stddev__r0    0.135794\n",
              "f3_min__r0       0.013925\n",
              "f3_max__r0       0.026989\n",
              "f4_avg__r0       0.180066\n",
              "f4_stddev__r0    0.011091\n",
              "f4_min__r0       0.104212\n",
              "f4_max__r0       0.104558\n",
              "f5_avg__r0       0.182397\n",
              "f5_stddev__r0    0.132186\n",
              "f5_min__r0       0.098281\n",
              "f5_max__r0       0.025485\n",
              "f6_avg__r0       0.125279\n",
              "f6_stddev__r0    0.182273\n",
              "f6_min__r0       0.046353\n",
              "f6_max__r0       0.063069\n",
              "f7_avg__r0       0.226745\n",
              "f7_stddev__r0    0.091248\n",
              "f7_min__r0       0.134928\n",
              "f7_max__r0       0.152783\n",
              "f8_avg__r0       0.118896\n",
              "f8_stddev__r0    0.130709\n",
              "                   ...   \n",
              "f18_q7__r4            NaN\n",
              "f18_q8__r4            NaN\n",
              "f18_q9__r4            NaN\n",
              "f19_q1__r4       0.150068\n",
              "f19_q2__r4       0.153669\n",
              "f19_q3__r4       0.158252\n",
              "f19_q4__r4       0.155709\n",
              "f19_q5__r4       0.160819\n",
              "f19_q6__r4       0.167029\n",
              "f19_q7__r4       0.179382\n",
              "f19_q8__r4       0.180528\n",
              "f19_q9__r4       0.203482\n",
              "f20_q1__r4       0.166795\n",
              "f20_q2__r4       0.164812\n",
              "f20_q3__r4       0.162364\n",
              "f20_q4__r4       0.159257\n",
              "f20_q5__r4       0.155664\n",
              "f20_q6__r4       0.151544\n",
              "f20_q7__r4       0.146368\n",
              "f20_q8__r4       0.139587\n",
              "f20_q9__r4       0.127071\n",
              "f21_q1__r4       0.042067\n",
              "f21_q2__r4       0.037533\n",
              "f21_q3__r4       0.029448\n",
              "f21_q4__r4       0.032773\n",
              "f21_q5__r4       0.028402\n",
              "f21_q6__r4       0.022780\n",
              "f21_q7__r4       0.017261\n",
              "f21_q8__r4       0.009634\n",
              "f21_q9__r4       0.003907\n",
              "Name: label, Length: 1365, dtype: float64"
            ]
          },
          "metadata": {
            "tags": []
          },
          "execution_count": 67
        }
      ]
    },
    {
      "metadata": {
        "id": "MtoXCH37YNyf",
        "colab_type": "code",
        "colab": {}
      },
      "cell_type": "code",
      "source": [
        ""
      ],
      "execution_count": 0,
      "outputs": []
    }
  ]
}